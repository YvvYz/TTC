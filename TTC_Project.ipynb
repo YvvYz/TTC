{
  "nbformat": 4,
  "nbformat_minor": 0,
  "metadata": {
    "colab": {
      "provenance": [],
      "collapsed_sections": [
        "skr2m1yKhaMJ",
        "rbnNdPj25ulH",
        "7rj1Xt0lvv_n",
        "VdVjd9QtgZnI",
        "vGM_6eNFipKZ",
        "h3iQMtf6S8us",
        "XQelpgj3pv9B",
        "-AHlfoVFz1rO",
        "W-Ekep_oFNH6",
        "WU7CPHZ5hO2C",
        "bgfTjSVh7TD5"
      ],
      "toc_visible": true,
      "include_colab_link": true
    },
    "kernelspec": {
      "name": "python3",
      "display_name": "Python 3"
    },
    "language_info": {
      "name": "python"
    }
  },
  "cells": [
    {
      "cell_type": "markdown",
      "metadata": {
        "id": "view-in-github",
        "colab_type": "text"
      },
      "source": [
        "<a href=\"https://colab.research.google.com/github/YvvYz/TTC/blob/main/TTC_Project.ipynb\" target=\"_parent\"><img src=\"https://colab.research.google.com/assets/colab-badge.svg\" alt=\"Open In Colab\"/></a>"
      ]
    },
    {
      "cell_type": "markdown",
      "source": [
        "Using public transportation in Toronto can be difficult due to the complicated routes and uncertain in arrival time of a bus. The actual arrival and departure time at a certain stop may vary depending on many factors, meaning that pure experience might not always work when planning the time to arrive at the bus stop. Machine learning algorithm is a usefull tool to analyze historical data of delay incidencies and find the key features that could be used to predict the delay time, especially when the amount of potential factors that could cause a delay incidence is massive.\n",
        "\n",
        "The following sections illustrates complete process of data cleaning, feature engineering, model fitting and training."
      ],
      "metadata": {
        "id": "Biuy54T-_1vQ"
      }
    },
    {
      "cell_type": "code",
      "source": [
        "import pandas as pd\n",
        "import numpy as np\n",
        "import seaborn as sns\n",
        "import matplotlib.pyplot as plt"
      ],
      "metadata": {
        "id": "2Zx2Rskn5Ir_"
      },
      "execution_count": null,
      "outputs": []
    },
    {
      "cell_type": "code",
      "execution_count": null,
      "metadata": {
        "id": "oG0o9QIs4I_A"
      },
      "outputs": [],
      "source": [
        "data = pd.read_excel('ttc-bus-delay-data-2021.xlsx', sheet_name=None)\n",
        "#File contains 12 spreadsheets, need to combine them.\n",
        "df = pd.concat(data.values())\n",
        "\n",
        "df.info()"
      ]
    },
    {
      "cell_type": "markdown",
      "source": [
        "The original data has 42269 records. Column description is as follows:\n",
        "\n",
        "*   Date: Date on which the delay incidence is reported\n",
        "*   Route: Route number\n",
        "*   Time: Time when the delay incidence happened\n",
        "*   Day: Day of week\n",
        "*   Location: Location (name of bus stop) where the delay incidence happened\n",
        "*   Incident: Cause of delay\n",
        "*   Min Delay: Delay time in minute\n",
        "*   Min Gap: Scheduled gap of time between current bus and the next bus in minute\n",
        "*   Direction: Bound\n",
        "*   Vehicle: Identifier of vehicle\n",
        "*   Line: Same as Route (inconsistent column name)\n",
        "*   Bound: Same as Direction (inconsistent column name)\n",
        "*   Unnamed:10: Invalid"
      ],
      "metadata": {
        "id": "3qKky-4VyH9g"
      }
    },
    {
      "cell_type": "markdown",
      "source": [
        "Combine columns that have inconsistent column names:"
      ],
      "metadata": {
        "id": "qMr8o0OZeXas"
      }
    },
    {
      "cell_type": "code",
      "source": [
        "df['Route'].fillna(df['Line'],inplace = True)\n",
        "df['Direction'].fillna(df['Bound'],inplace = True)"
      ],
      "metadata": {
        "id": "VCMjEZne5LVx"
      },
      "execution_count": null,
      "outputs": []
    },
    {
      "cell_type": "markdown",
      "source": [
        "# Cleaning/Feature Engineering - Min Delay & Delay Interval"
      ],
      "metadata": {
        "id": "skr2m1yKhaMJ"
      }
    },
    {
      "cell_type": "code",
      "source": [
        "#delete rows that has no value in column \"Min Delay\"\n",
        "df.dropna(subset=['Min Delay'])"
      ],
      "metadata": {
        "id": "vLr2RT7bSONd"
      },
      "execution_count": null,
      "outputs": []
    },
    {
      "cell_type": "markdown",
      "source": [
        "Remove Outliers"
      ],
      "metadata": {
        "id": "kZDsmcimnE_K"
      }
    },
    {
      "cell_type": "code",
      "source": [
        "#box plot\n",
        "sns.boxplot(x=df['Min Delay'])"
      ],
      "metadata": {
        "id": "TVJOsRzBnA6E"
      },
      "execution_count": null,
      "outputs": []
    },
    {
      "cell_type": "markdown",
      "source": [
        "Minutes Delay has some extremely large value, which might be errors generated when reporting the incidence, or indicating extreme situations such as service cancelled temporarily."
      ],
      "metadata": {
        "id": "trnwOgD6nm7g"
      }
    },
    {
      "cell_type": "code",
      "source": [
        "#Calculate IQR\n",
        "Q1 = df['Min Delay'].quantile(0.25)\n",
        "Q3 = df['Min Delay'].quantile(0.75)\n",
        "IQR = Q3 - Q1\n",
        "print(IQR)"
      ],
      "metadata": {
        "colab": {
          "base_uri": "https://localhost:8080/"
        },
        "outputId": "335ae8c1-8d7e-4b41-b839-d7700f712a10",
        "id": "OsiaNMWXnA6F"
      },
      "execution_count": null,
      "outputs": [
        {
          "output_type": "stream",
          "name": "stdout",
          "text": [
            "12.0\n"
          ]
        }
      ]
    },
    {
      "cell_type": "code",
      "source": [
        "#remove rows that contain outlier\n",
        "df2 = df[ ~ ( (df['Min Delay'] < (Q1 - 1.5 * IQR)) | (df['Min Delay'] > (Q3 + 1.5 * IQR) ))]"
      ],
      "metadata": {
        "id": "l5UbcUFynA6F"
      },
      "execution_count": null,
      "outputs": []
    },
    {
      "cell_type": "code",
      "source": [
        "sns.boxplot(x=df2['Min Delay'])"
      ],
      "metadata": {
        "id": "biRUcEkwnA6F"
      },
      "execution_count": null,
      "outputs": []
    },
    {
      "cell_type": "markdown",
      "source": [
        "Create bins for delay time, categorize delay time values as intervals.\n",
        "\n",
        "(-1,0] contains only 0, meaning \"On time\", (0,5] means \"Delay for 1-5 minutes\"."
      ],
      "metadata": {
        "id": "l7-OgPVNhl0q"
      }
    },
    {
      "cell_type": "code",
      "source": [
        "bin_delay = [-1,0,5,10,15,20,25,30,99999]\n",
        "\n",
        "df2['Delay_interval']=pd.cut(df2['Min Delay'],bin_delay).astype('str')"
      ],
      "metadata": {
        "id": "shtVExRgzQHx"
      },
      "execution_count": null,
      "outputs": []
    },
    {
      "cell_type": "code",
      "source": [
        "df2.info()"
      ],
      "metadata": {
        "id": "XkF-pwDJZh6S"
      },
      "execution_count": null,
      "outputs": []
    },
    {
      "cell_type": "markdown",
      "source": [
        "# Feature Engineering - Month"
      ],
      "metadata": {
        "id": "rbnNdPj25ulH"
      }
    },
    {
      "cell_type": "markdown",
      "source": [
        "Create column \"Month\" to extract the month from date."
      ],
      "metadata": {
        "id": "6CAjXomSe1Pz"
      }
    },
    {
      "cell_type": "code",
      "source": [
        "df2['Month'] = df2['Date'].dt.month.astype('category')"
      ],
      "metadata": {
        "id": "ODMQU9ol5Ttb"
      },
      "execution_count": null,
      "outputs": []
    },
    {
      "cell_type": "code",
      "source": [
        "#Subset the dataframe so that only delay time greater than 0 is selected\n",
        "delay = df2[df2['Min Delay'] > 0]\n",
        "\n",
        "#count the number of rows for each month\n",
        "month_count = delay['Month'].value_counts().sort_index()\n",
        "#plot bar chart (month vs. frequency of delay)\n",
        "plt.bar(x=['Jan','Feb','Mar','Apr','May','Jun','Jul','Aug','Sep','Oct','Nov','Dec'],height=month_count)"
      ],
      "metadata": {
        "id": "_gfOiXDi6D_l"
      },
      "execution_count": null,
      "outputs": []
    },
    {
      "cell_type": "markdown",
      "source": [
        "> The frequencies of delay incidences have a seasonal pattern. Public transportation system can be influenced by factors such as weather and holiday seasons. Therefore month could be a feature to predict delay time."
      ],
      "metadata": {
        "id": "gCKvoASA6ljl"
      }
    },
    {
      "cell_type": "markdown",
      "source": [
        "# Cleaning/Feature Engineering - Route & Route Category"
      ],
      "metadata": {
        "id": "7rj1Xt0lvv_n"
      }
    },
    {
      "cell_type": "code",
      "source": [
        "#drop rows with no values in Route\n",
        "df3 = df2.dropna(subset=['Route'])"
      ],
      "metadata": {
        "id": "0niY3JUJBJ0L"
      },
      "execution_count": null,
      "outputs": []
    },
    {
      "cell_type": "markdown",
      "source": [
        "\n",
        "Import a list of all regular routes and their service type. The file compiles routes information from TTC official site."
      ],
      "metadata": {
        "id": "5XTwbHgbfKU_"
      }
    },
    {
      "cell_type": "code",
      "source": [
        "route_all = pd.read_excel('TTC Routes.xlsx')"
      ],
      "metadata": {
        "id": "G5FVSSwQ-Lw6"
      },
      "execution_count": null,
      "outputs": []
    },
    {
      "cell_type": "markdown",
      "source": [
        "Create a new column \"Route_Category\" to record the service type of each record."
      ],
      "metadata": {
        "id": "J1f-s4ksf6gA"
      }
    },
    {
      "cell_type": "code",
      "source": [
        "#Subset the datafram based on value of route type, and add labels for routes.\n",
        "regular = df3[df3['Route'].isin(route_all['Regular'])]\n",
        "regular['Route_Category'] = 'Regular Route'\n",
        "\n",
        "limited = df3[df3['Route'].isin(route_all['Limited'])]\n",
        "limited['Route_Category'] = 'Limited Service'\n",
        "\n",
        "night = df3[df3['Route'].isin(route_all['Night'])]\n",
        "night['Route_Category'] = 'Night Service'\n",
        "\n",
        "express = df3[df3['Route'].isin(route_all['Express'])]\n",
        "express['Route_Category'] = 'Express Route'\n",
        "\n",
        "community = df3[df3['Route'].isin(route_all['Community'])]\n",
        "community['Route_Category'] = 'Community Bus'\n",
        "\n",
        "streetcar = df3[df3['Route'].isin(route_all['StreetCar'])]\n",
        "streetcar['Route_Category'] = 'Street Car'\n",
        "\n",
        "streetcar_night = df3[df3['Route'].isin(route_all['StreetCar Night'])]\n",
        "streetcar_night['Route_Category'] = 'Street Car'\n",
        "\n",
        "#Combine subsets for all route types into one datafram\n",
        "df4 = pd.concat([regular, limited, night, express, community, streetcar, streetcar_night])"
      ],
      "metadata": {
        "id": "2RGhV1I2-vwi"
      },
      "execution_count": null,
      "outputs": []
    },
    {
      "cell_type": "code",
      "source": [
        "df4.info()"
      ],
      "metadata": {
        "id": "MdEllXpv_tDF"
      },
      "execution_count": null,
      "outputs": []
    },
    {
      "cell_type": "markdown",
      "source": [
        "> Route is an important feature that can identify a bus trip. However, this feature will not provide predictive power if new data contains unknown, special or new routes.\n",
        "\n",
        "> Route category identify the service type of this route. This column is created because it is possible that the delay times of different service are different. For example, trips during late night might encounter smaller vehicle volumn, express trips might have less stops and are les likely to delay."
      ],
      "metadata": {
        "id": "bG8XAaO02FcF"
      }
    },
    {
      "cell_type": "markdown",
      "source": [
        "# Cleaning/Feature Engineering - Time & Time Interval"
      ],
      "metadata": {
        "id": "VdVjd9QtgZnI"
      }
    },
    {
      "cell_type": "markdown",
      "source": [
        "The format of time in the original file is \"hours : minute\". Remove all special characters in time value and convert time to integer."
      ],
      "metadata": {
        "id": "aukjOyuLg1aR"
      }
    },
    {
      "cell_type": "code",
      "source": [
        "df4 = df4.sort_values(['Time'])"
      ],
      "metadata": {
        "id": "uYTUkMrTMrpi"
      },
      "execution_count": null,
      "outputs": []
    },
    {
      "cell_type": "code",
      "source": [
        "t = df4['Time'].astype('str')\n",
        "t = t.str.replace(':','').astype(int)"
      ],
      "metadata": {
        "id": "Bv18RW_6U77F"
      },
      "execution_count": null,
      "outputs": []
    },
    {
      "cell_type": "markdown",
      "source": [
        "Create bins for time, categorize time values as intervals.\n",
        "\n",
        "(-1,100] means 0:00 to 1:00; (100,200] means 1:00 to 2:00, etc."
      ],
      "metadata": {
        "id": "ndXrTavSg8mK"
      }
    },
    {
      "cell_type": "code",
      "source": [
        "bins = [-1,100,200,300,400,500,600,700,800,900,1000,1100,1200,1300,1400,1500,1600,1700,1800,1900,2000,2100,2200,2300,2359]\n",
        "df4['time_interval']=pd.cut(t,bins).astype('str')\n",
        "df4['time_interval']"
      ],
      "metadata": {
        "colab": {
          "base_uri": "https://localhost:8080/"
        },
        "id": "3FdYF7lcKxki",
        "outputId": "80cd096e-2397-4a7f-936f-7b0ab871d25f"
      },
      "execution_count": null,
      "outputs": [
        {
          "output_type": "execute_result",
          "data": {
            "text/plain": [
              "1794       (-1, 100]\n",
              "1688       (-1, 100]\n",
              "1710       (-1, 100]\n",
              "1135       (-1, 100]\n",
              "1300       (-1, 100]\n",
              "            ...     \n",
              "3388    (2300, 2359]\n",
              "104     (2300, 2359]\n",
              "3008    (2300, 2359]\n",
              "2400    (2300, 2359]\n",
              "1518    (2300, 2359]\n",
              "Name: time_interval, Length: 39476, dtype: object"
            ]
          },
          "metadata": {},
          "execution_count": 20
        }
      ]
    },
    {
      "cell_type": "code",
      "source": [
        "delay = df4[df4['Min Delay']>0]\n",
        "#plot histogram (time interval vs. delay frequency)\n",
        "plt.hist(delay['time_interval'])"
      ],
      "metadata": {
        "id": "gP8493LKIf1m"
      },
      "execution_count": null,
      "outputs": []
    },
    {
      "cell_type": "code",
      "source": [
        "df4.head()"
      ],
      "metadata": {
        "id": "Jy8NmtkoaMGP"
      },
      "execution_count": null,
      "outputs": []
    },
    {
      "cell_type": "markdown",
      "source": [
        "> Traffic condition, which is very likely to influence bus schedule, usually follows certain pattern throughout a day. For example, traffic jam and collision usually happen more often during rush hours."
      ],
      "metadata": {
        "id": "NPvUpl-I4-Tz"
      }
    },
    {
      "cell_type": "markdown",
      "source": [
        "# Cleaning - Direction"
      ],
      "metadata": {
        "id": "vGM_6eNFipKZ"
      }
    },
    {
      "cell_type": "markdown",
      "source": [
        "The column \"Direction\" contains invalid and NA values."
      ],
      "metadata": {
        "id": "49OBjdVbivrk"
      }
    },
    {
      "cell_type": "code",
      "source": [
        "df5 = df4.dropna(subset=['Direction'])"
      ],
      "metadata": {
        "id": "55SKjovIhCBz"
      },
      "execution_count": null,
      "outputs": []
    },
    {
      "cell_type": "markdown",
      "source": [
        "Only keep rows with valid direction values."
      ],
      "metadata": {
        "id": "LP3BtZrgi6iF"
      }
    },
    {
      "cell_type": "code",
      "source": [
        "df5 = df5[df5['Direction'].isin(['N','E','W','S','B'])]"
      ],
      "metadata": {
        "id": "3MMtvUeO-rgq"
      },
      "execution_count": null,
      "outputs": []
    },
    {
      "cell_type": "code",
      "source": [
        "df5['Direction'].unique().tolist()"
      ],
      "metadata": {
        "id": "vswWYasrjS3Q"
      },
      "execution_count": null,
      "outputs": []
    },
    {
      "cell_type": "markdown",
      "source": [
        "# Day of Week"
      ],
      "metadata": {
        "id": "h3iQMtf6S8us"
      }
    },
    {
      "cell_type": "code",
      "source": [
        "#plot histogram (day of week vs. delay frequency)\n",
        "delay = df5[df5['Min Delay']>0]\n",
        "plt.hist(df5['Day'])"
      ],
      "metadata": {
        "id": "3D7sjYy7S7Ny"
      },
      "execution_count": null,
      "outputs": []
    },
    {
      "cell_type": "markdown",
      "source": [
        "Delay frequency is higher during week days and lower during weekends (larger pedestrain and vehicle volume, higher needs for public transportation during weekdays). This indicates that delay time could also be influenced by day of week."
      ],
      "metadata": {
        "id": "jOsqQQVX6sjK"
      }
    },
    {
      "cell_type": "markdown",
      "source": [
        "# Decision Tree/Random Forest 1"
      ],
      "metadata": {
        "id": "XQelpgj3pv9B"
      }
    },
    {
      "cell_type": "code",
      "source": [
        "from sklearn import tree\n",
        "from sklearn.tree import DecisionTreeClassifier, export_graphviz\n",
        "from sklearn.model_selection import train_test_split\n",
        "from sklearn.metrics import accuracy_score"
      ],
      "metadata": {
        "id": "Ukm_VnINXxFB"
      },
      "execution_count": null,
      "outputs": []
    },
    {
      "cell_type": "markdown",
      "source": [
        "The first model contains features: month, time as intervals, day of the week, route type and direction."
      ],
      "metadata": {
        "id": "PaV-mZRZmdDL"
      }
    },
    {
      "cell_type": "code",
      "source": [
        "d = df5[['Month','time_interval','Day','Route_Category','Direction','Delay_interval']]\n",
        "d.info()"
      ],
      "metadata": {
        "id": "0svRDTWglBf-"
      },
      "execution_count": null,
      "outputs": []
    },
    {
      "cell_type": "code",
      "source": [
        "#One-hot-encode categorical feathers\n",
        "data1 = pd.get_dummies(d[['Month','time_interval','Day','Route_Category','Direction']],drop_first=True)\n",
        "features1 = data1.columns.values.tolist()"
      ],
      "metadata": {
        "id": "GLCzrGtmqHq_"
      },
      "execution_count": null,
      "outputs": []
    },
    {
      "cell_type": "markdown",
      "source": [
        "**Predict using decision tree**"
      ],
      "metadata": {
        "id": "KNbpDMYSl1dw"
      }
    },
    {
      "cell_type": "code",
      "source": [
        "#define the model to use\n",
        "tree1 = DecisionTreeClassifier(min_samples_split=100)\n",
        "\n",
        "#subset data into training and testing data\n",
        "X_train1, X_test1, y_train1, y_test1 = train_test_split(data1,d['Delay_interval'],test_size=0.15,random_state = 42)"
      ],
      "metadata": {
        "id": "2aa3t6pYpvQ2"
      },
      "execution_count": null,
      "outputs": []
    },
    {
      "cell_type": "code",
      "source": [
        "#train model and predict\n",
        "tree1.fit(X_train1,y_train1)\n",
        "y_pred1 = tree1.predict(X_test1)\n",
        "\n",
        "#calculate accuracy\n",
        "accuracy1  = accuracy_score(y_test1,y_pred1)\n",
        "accuracy1"
      ],
      "metadata": {
        "colab": {
          "base_uri": "https://localhost:8080/"
        },
        "id": "u6lgSvIurMeu",
        "outputId": "0eb7c539-f08d-4c7a-a84a-450d47fabba4"
      },
      "execution_count": null,
      "outputs": [
        {
          "output_type": "execute_result",
          "data": {
            "text/plain": [
              "0.3884297520661157"
            ]
          },
          "metadata": {},
          "execution_count": 51
        }
      ]
    },
    {
      "cell_type": "markdown",
      "source": [
        "**Predict using random forest**"
      ],
      "metadata": {
        "id": "cAJyjwjjm5fO"
      }
    },
    {
      "cell_type": "markdown",
      "source": [
        "Try different number limitation on depth, record each corresponding accuracy."
      ],
      "metadata": {
        "id": "dtsIh2ZynJDr"
      }
    },
    {
      "cell_type": "code",
      "source": [
        "from sklearn.ensemble import RandomForestClassifier\n",
        "from sklearn.datasets import make_classification\n",
        "\n",
        "#create empty list to store accuracy scores\n",
        "accuracyList_1 = []\n",
        "maxDepth_1 = []\n",
        "for i in range(1,30):\n",
        "  #define model to be used\n",
        "  rf = RandomForestClassifier(criterion=\"entropy\",max_depth=i, random_state=0)\n",
        "\n",
        "  #train model\n",
        "  rf.fit(X_train1,y_train1)\n",
        "  #predict\n",
        "  rf_pred = rf.predict(X_test1)\n",
        "  #calculate accuracy\n",
        "  rf_accuracy  = accuracy_score(y_test1,rf_pred)\n",
        "\n",
        "  #record accuracy score\n",
        "  accuracyList_1.append(rf_accuracy)\n",
        "  maxDepth_1.append(i)\n"
      ],
      "metadata": {
        "id": "3HnylTjlIT_v"
      },
      "execution_count": null,
      "outputs": []
    },
    {
      "cell_type": "markdown",
      "source": [
        "Plot accuracy vs. max depth"
      ],
      "metadata": {
        "id": "OamrSQd4N7jR"
      }
    },
    {
      "cell_type": "code",
      "source": [
        "plt.plot(maxDepth_1,accuracyList_1)\n",
        "plt.xlabel('Maximum Depth')\n",
        "plt.ylabel('Accuracy')\n",
        "plt.show()"
      ],
      "metadata": {
        "id": "KcQeI9FHkR8p"
      },
      "execution_count": null,
      "outputs": []
    },
    {
      "cell_type": "markdown",
      "source": [
        "The accuracy of prediction reaches the highest value when the maximum depth is set to 16. Therefore use 16 as the max_depth."
      ],
      "metadata": {
        "id": "ZBjo77EuncOr"
      }
    },
    {
      "cell_type": "code",
      "source": [
        "rf = RandomForestClassifier(criterion=\"entropy\",max_depth=16, random_state=0)\n",
        "\n",
        "rf.fit(X_train1,y_train1)\n",
        "rf_pred = rf.predict(X_test1)\n",
        "accuracy_score(y_test1,rf_pred)"
      ],
      "metadata": {
        "colab": {
          "base_uri": "https://localhost:8080/"
        },
        "id": "qVy40vQ0lfpk",
        "outputId": "49211523-9ffd-45b4-b711-6abdb75a3562"
      },
      "execution_count": null,
      "outputs": [
        {
          "output_type": "execute_result",
          "data": {
            "text/plain": [
              "0.41523886313243297"
            ]
          },
          "metadata": {},
          "execution_count": 48
        }
      ]
    },
    {
      "cell_type": "markdown",
      "source": [
        "# KNN"
      ],
      "metadata": {
        "id": "-AHlfoVFz1rO"
      }
    },
    {
      "cell_type": "markdown",
      "source": [
        "This model uses KNN as algorith but with the same combination of features as decision tree 1."
      ],
      "metadata": {
        "id": "Qe32JpMjonEk"
      }
    },
    {
      "cell_type": "code",
      "source": [
        "from sklearn.model_selection import train_test_split"
      ],
      "metadata": {
        "id": "5OKMxeGb1TF1"
      },
      "execution_count": null,
      "outputs": []
    },
    {
      "cell_type": "code",
      "source": [
        "#one-hot-encode categories\n",
        "x = pd.get_dummies(d[['Month','time_interval','Day','Route_Category','Direction']],drop_first=True)\n",
        "featuresK = x.columns.values.tolist()\n",
        "#define target column\n",
        "y = d['Delay_interval'].values"
      ],
      "metadata": {
        "id": "vQO6VQ1-06R1"
      },
      "execution_count": null,
      "outputs": []
    },
    {
      "cell_type": "code",
      "source": [
        "#subset data into training and testing data\n",
        "X_train,X_test,y_train,y_test = train_test_split(x,y,test_size=0.4,stratify=y,random_state=42)"
      ],
      "metadata": {
        "id": "FVYUHkLSz0i0"
      },
      "execution_count": null,
      "outputs": []
    },
    {
      "cell_type": "markdown",
      "source": [
        "Try different k value and find the one that yields the highest accuracy"
      ],
      "metadata": {
        "id": "u2ZF1uLeOU9l"
      }
    },
    {
      "cell_type": "code",
      "source": [
        "from sklearn.neighbors import KNeighborsClassifier\n",
        "\n",
        "neighbors = np.arange(1,20)\n",
        "train_accuracy = np.empty(len(neighbors))\n",
        "test_accuracy = np.empty(len(neighbors))\n",
        "\n",
        "for i,k in enumerate(neighbors):\n",
        "    #define model to be used\n",
        "    knn = KNeighborsClassifier(n_neighbors=k)\n",
        "    #train model\n",
        "    knn.fit(X_train,y_train)\n",
        "    #calculate train accuracy\n",
        "    train_accuracy[i] = knn.score(X_train,y_train)\n",
        "    #calculate predict accuracy\n",
        "    test_accuracy[i] = knn.score(X_test,y_test)"
      ],
      "metadata": {
        "id": "OVgnlAZ81fAD"
      },
      "execution_count": null,
      "outputs": []
    },
    {
      "cell_type": "markdown",
      "source": [
        "Plot training accuracy and testing accuracy vs. k"
      ],
      "metadata": {
        "id": "uV6RMfpbOoTl"
      }
    },
    {
      "cell_type": "code",
      "source": [
        "plt.plot(neighbors,test_accuracy,label='Testing Accuracy')\n",
        "plt.plot(neighbors,train_accuracy,label='Training Accuracy')\n",
        "plt.legend()\n",
        "plt.xlabel('Number of neighbors')\n",
        "plt.ylabel('Accuracy')\n",
        "plt.title('K-NN Varying number of neighbors')\n",
        "plt.show()"
      ],
      "metadata": {
        "id": "9jeE1Slw5x6-"
      },
      "execution_count": null,
      "outputs": []
    },
    {
      "cell_type": "markdown",
      "source": [
        "As the plot shows, the accuracy of testing and training converge to about 40. It is reasonable to conclude that, with the current combination of features, KNN yields similar result to random forest or decision tree."
      ],
      "metadata": {
        "id": "kGCqFPFvquiw"
      }
    },
    {
      "cell_type": "markdown",
      "source": [
        "\n",
        "\n",
        "# Decision Tree/Random Forest 2"
      ],
      "metadata": {
        "id": "W-Ekep_oFNH6"
      }
    },
    {
      "cell_type": "markdown",
      "source": [
        "This model contains features: month, time intervals, day of week, route, route type and direction."
      ],
      "metadata": {
        "id": "ztHnTkROrXbq"
      }
    },
    {
      "cell_type": "code",
      "source": [
        "d2 = df5[['Month','time_interval','Day','Route','Route_Category','Direction','Delay_interval']]"
      ],
      "metadata": {
        "id": "NRLz7_pzFQCn"
      },
      "execution_count": null,
      "outputs": []
    },
    {
      "cell_type": "code",
      "source": [
        "data2 = pd.get_dummies(d2[['Month','time_interval','Day','Route','Route_Category','Direction']],drop_first=True)\n",
        "features2 = data2.columns.values.tolist()"
      ],
      "metadata": {
        "id": "36a81Xy4cHQd"
      },
      "execution_count": null,
      "outputs": []
    },
    {
      "cell_type": "code",
      "source": [
        "data2.head()"
      ],
      "metadata": {
        "id": "PSdT9VjKcHQi"
      },
      "execution_count": null,
      "outputs": []
    },
    {
      "cell_type": "markdown",
      "source": [
        "Due to the high cardinality of data \"route\", the number of features is very large after one-hot-encoding."
      ],
      "metadata": {
        "id": "v4CXYOG2sM5_"
      }
    },
    {
      "cell_type": "markdown",
      "source": [
        "**Predict using decision tree**"
      ],
      "metadata": {
        "id": "VGKRWWuOtZxd"
      }
    },
    {
      "cell_type": "code",
      "source": [
        "tree2 = DecisionTreeClassifier(min_samples_split=100)\n",
        "\n",
        "X_train2, X_test2, y_train2, y_test2 = train_test_split(data2,d2['Delay_interval'],test_size=0.15,random_state = 42)"
      ],
      "metadata": {
        "id": "ceJAqRCtcHQj"
      },
      "execution_count": null,
      "outputs": []
    },
    {
      "cell_type": "code",
      "source": [
        "tree2.fit(X_train2,y_train2)\n",
        "y_pred2 = tree2.predict(X_test2)\n",
        "\n",
        "accuracy  = accuracy_score(y_test2,y_pred2)\n",
        "accuracy"
      ],
      "metadata": {
        "colab": {
          "base_uri": "https://localhost:8080/"
        },
        "outputId": "51d32f83-49d9-499a-d86d-fe9e265f575d",
        "id": "2BKN8f6scHQj"
      },
      "execution_count": null,
      "outputs": [
        {
          "output_type": "execute_result",
          "data": {
            "text/plain": [
              "0.6182221326345495"
            ]
          },
          "metadata": {},
          "execution_count": 65
        }
      ]
    },
    {
      "cell_type": "markdown",
      "source": [
        "**Predict using random forest**"
      ],
      "metadata": {
        "id": "6YeqNFU4t2q6"
      }
    },
    {
      "cell_type": "code",
      "source": [
        "accuracyList_2 = []\n",
        "maxDepth_2 = []\n",
        "for i in range(80,150):\n",
        "  rf = RandomForestClassifier(criterion=\"entropy\",max_depth=i, random_state=0)\n",
        "\n",
        "  rf.fit(X_train2,y_train2)\n",
        "  rf_pred = rf.predict(X_test2)\n",
        "  rf_accuracy  = accuracy_score(y_test2,rf_pred)\n",
        "\n",
        "  accuracyList_2.append(rf_accuracy)\n",
        "  maxDepth_2.append(i)"
      ],
      "metadata": {
        "id": "YI76hKPGmIpn"
      },
      "execution_count": null,
      "outputs": []
    },
    {
      "cell_type": "code",
      "source": [
        "plt.plot(maxDepth_2,accuracyList_2)\n",
        "plt.xlabel('Maximum Depth')\n",
        "plt.ylabel('Accuracy')\n",
        "plt.show()"
      ],
      "metadata": {
        "id": "Z47IcoEsvXWU"
      },
      "execution_count": null,
      "outputs": []
    },
    {
      "cell_type": "markdown",
      "source": [
        "The highest accuracy score (64%) appears when maximum depth is at around 98. In this model the number of features are much bigger than random forest 1, this could lead to the result that the number of data records in each branch is much smaller in this model. The model might output biased result if the data size if not big enough."
      ],
      "metadata": {
        "id": "dMllcP7p84aF"
      }
    },
    {
      "cell_type": "markdown",
      "source": [
        "# Decision Tree/Random Forest 3"
      ],
      "metadata": {
        "id": "WU7CPHZ5hO2C"
      }
    },
    {
      "cell_type": "markdown",
      "source": [
        "This model contains features: month, time interval, day of week, route category, location and direction.\n",
        "\n",
        "The model is built in comparison with the second decision tree/random forest model to compare the predictive power of \"Route\" and \"Location\". Since both features have large amount of classes, including both in a model will likely to make the model resource-consuming. Therefore, the purpose of this section is to discuss which of these two features should be chosen, if any."
      ],
      "metadata": {
        "id": "3oR61flXBFQn"
      }
    },
    {
      "cell_type": "code",
      "source": [
        "d3 = df5[['Month','time_interval','Day','Route_Category','Location','Direction','Delay_interval']]\n",
        "d3.head()"
      ],
      "metadata": {
        "colab": {
          "base_uri": "https://localhost:8080/",
          "height": 206
        },
        "outputId": "01e79bdd-4a36-4119-96c3-d0745cd48a27",
        "id": "cFHoN0Pvhorz"
      },
      "execution_count": null,
      "outputs": [
        {
          "output_type": "execute_result",
          "data": {
            "text/plain": [
              "     Month time_interval        Day Route_Category                Location  \\\n",
              "1794    10     (-1, 100]     Friday  Express Route      JANE AND TRETHEWEY   \n",
              "1688     3     (-1, 100]  Wednesday  Regular Route   LAWRENCE WEST STATION   \n",
              "1135    11     (-1, 100]     Sunday  Regular Route   WYNFORD AND DON MILLS   \n",
              "1300     2     (-1, 100]     Monday  Regular Route    MCNICOLL AND KENNEDY   \n",
              "453      7     (-1, 100]  Wednesday     Street Car  ST CLAIR AND OLD WESTO   \n",
              "\n",
              "     Direction Delay_interval  \n",
              "1794         S       (10, 15]  \n",
              "1688         E       (15, 20]  \n",
              "1135         S        (5, 10]  \n",
              "1300         E       (25, 30]  \n",
              "453          E       (10, 15]  "
            ],
            "text/html": [
              "\n",
              "  <div id=\"df-05d307c4-39a2-4806-b2ea-702f34e00e20\">\n",
              "    <div class=\"colab-df-container\">\n",
              "      <div>\n",
              "<style scoped>\n",
              "    .dataframe tbody tr th:only-of-type {\n",
              "        vertical-align: middle;\n",
              "    }\n",
              "\n",
              "    .dataframe tbody tr th {\n",
              "        vertical-align: top;\n",
              "    }\n",
              "\n",
              "    .dataframe thead th {\n",
              "        text-align: right;\n",
              "    }\n",
              "</style>\n",
              "<table border=\"1\" class=\"dataframe\">\n",
              "  <thead>\n",
              "    <tr style=\"text-align: right;\">\n",
              "      <th></th>\n",
              "      <th>Month</th>\n",
              "      <th>time_interval</th>\n",
              "      <th>Day</th>\n",
              "      <th>Route_Category</th>\n",
              "      <th>Location</th>\n",
              "      <th>Direction</th>\n",
              "      <th>Delay_interval</th>\n",
              "    </tr>\n",
              "  </thead>\n",
              "  <tbody>\n",
              "    <tr>\n",
              "      <th>1794</th>\n",
              "      <td>10</td>\n",
              "      <td>(-1, 100]</td>\n",
              "      <td>Friday</td>\n",
              "      <td>Express Route</td>\n",
              "      <td>JANE AND TRETHEWEY</td>\n",
              "      <td>S</td>\n",
              "      <td>(10, 15]</td>\n",
              "    </tr>\n",
              "    <tr>\n",
              "      <th>1688</th>\n",
              "      <td>3</td>\n",
              "      <td>(-1, 100]</td>\n",
              "      <td>Wednesday</td>\n",
              "      <td>Regular Route</td>\n",
              "      <td>LAWRENCE WEST STATION</td>\n",
              "      <td>E</td>\n",
              "      <td>(15, 20]</td>\n",
              "    </tr>\n",
              "    <tr>\n",
              "      <th>1135</th>\n",
              "      <td>11</td>\n",
              "      <td>(-1, 100]</td>\n",
              "      <td>Sunday</td>\n",
              "      <td>Regular Route</td>\n",
              "      <td>WYNFORD AND DON MILLS</td>\n",
              "      <td>S</td>\n",
              "      <td>(5, 10]</td>\n",
              "    </tr>\n",
              "    <tr>\n",
              "      <th>1300</th>\n",
              "      <td>2</td>\n",
              "      <td>(-1, 100]</td>\n",
              "      <td>Monday</td>\n",
              "      <td>Regular Route</td>\n",
              "      <td>MCNICOLL AND KENNEDY</td>\n",
              "      <td>E</td>\n",
              "      <td>(25, 30]</td>\n",
              "    </tr>\n",
              "    <tr>\n",
              "      <th>453</th>\n",
              "      <td>7</td>\n",
              "      <td>(-1, 100]</td>\n",
              "      <td>Wednesday</td>\n",
              "      <td>Street Car</td>\n",
              "      <td>ST CLAIR AND OLD WESTO</td>\n",
              "      <td>E</td>\n",
              "      <td>(10, 15]</td>\n",
              "    </tr>\n",
              "  </tbody>\n",
              "</table>\n",
              "</div>\n",
              "      <button class=\"colab-df-convert\" onclick=\"convertToInteractive('df-05d307c4-39a2-4806-b2ea-702f34e00e20')\"\n",
              "              title=\"Convert this dataframe to an interactive table.\"\n",
              "              style=\"display:none;\">\n",
              "        \n",
              "  <svg xmlns=\"http://www.w3.org/2000/svg\" height=\"24px\"viewBox=\"0 0 24 24\"\n",
              "       width=\"24px\">\n",
              "    <path d=\"M0 0h24v24H0V0z\" fill=\"none\"/>\n",
              "    <path d=\"M18.56 5.44l.94 2.06.94-2.06 2.06-.94-2.06-.94-.94-2.06-.94 2.06-2.06.94zm-11 1L8.5 8.5l.94-2.06 2.06-.94-2.06-.94L8.5 2.5l-.94 2.06-2.06.94zm10 10l.94 2.06.94-2.06 2.06-.94-2.06-.94-.94-2.06-.94 2.06-2.06.94z\"/><path d=\"M17.41 7.96l-1.37-1.37c-.4-.4-.92-.59-1.43-.59-.52 0-1.04.2-1.43.59L10.3 9.45l-7.72 7.72c-.78.78-.78 2.05 0 2.83L4 21.41c.39.39.9.59 1.41.59.51 0 1.02-.2 1.41-.59l7.78-7.78 2.81-2.81c.8-.78.8-2.07 0-2.86zM5.41 20L4 18.59l7.72-7.72 1.47 1.35L5.41 20z\"/>\n",
              "  </svg>\n",
              "      </button>\n",
              "      \n",
              "  <style>\n",
              "    .colab-df-container {\n",
              "      display:flex;\n",
              "      flex-wrap:wrap;\n",
              "      gap: 12px;\n",
              "    }\n",
              "\n",
              "    .colab-df-convert {\n",
              "      background-color: #E8F0FE;\n",
              "      border: none;\n",
              "      border-radius: 50%;\n",
              "      cursor: pointer;\n",
              "      display: none;\n",
              "      fill: #1967D2;\n",
              "      height: 32px;\n",
              "      padding: 0 0 0 0;\n",
              "      width: 32px;\n",
              "    }\n",
              "\n",
              "    .colab-df-convert:hover {\n",
              "      background-color: #E2EBFA;\n",
              "      box-shadow: 0px 1px 2px rgba(60, 64, 67, 0.3), 0px 1px 3px 1px rgba(60, 64, 67, 0.15);\n",
              "      fill: #174EA6;\n",
              "    }\n",
              "\n",
              "    [theme=dark] .colab-df-convert {\n",
              "      background-color: #3B4455;\n",
              "      fill: #D2E3FC;\n",
              "    }\n",
              "\n",
              "    [theme=dark] .colab-df-convert:hover {\n",
              "      background-color: #434B5C;\n",
              "      box-shadow: 0px 1px 3px 1px rgba(0, 0, 0, 0.15);\n",
              "      filter: drop-shadow(0px 1px 2px rgba(0, 0, 0, 0.3));\n",
              "      fill: #FFFFFF;\n",
              "    }\n",
              "  </style>\n",
              "\n",
              "      <script>\n",
              "        const buttonEl =\n",
              "          document.querySelector('#df-05d307c4-39a2-4806-b2ea-702f34e00e20 button.colab-df-convert');\n",
              "        buttonEl.style.display =\n",
              "          google.colab.kernel.accessAllowed ? 'block' : 'none';\n",
              "\n",
              "        async function convertToInteractive(key) {\n",
              "          const element = document.querySelector('#df-05d307c4-39a2-4806-b2ea-702f34e00e20');\n",
              "          const dataTable =\n",
              "            await google.colab.kernel.invokeFunction('convertToInteractive',\n",
              "                                                     [key], {});\n",
              "          if (!dataTable) return;\n",
              "\n",
              "          const docLinkHtml = 'Like what you see? Visit the ' +\n",
              "            '<a target=\"_blank\" href=https://colab.research.google.com/notebooks/data_table.ipynb>data table notebook</a>'\n",
              "            + ' to learn more about interactive tables.';\n",
              "          element.innerHTML = '';\n",
              "          dataTable['output_type'] = 'display_data';\n",
              "          await google.colab.output.renderOutput(dataTable, element);\n",
              "          const docLink = document.createElement('div');\n",
              "          docLink.innerHTML = docLinkHtml;\n",
              "          element.appendChild(docLink);\n",
              "        }\n",
              "      </script>\n",
              "    </div>\n",
              "  </div>\n",
              "  "
            ]
          },
          "metadata": {},
          "execution_count": 84
        }
      ]
    },
    {
      "cell_type": "code",
      "source": [
        "data3 = pd.get_dummies(d3[['Month','time_interval','Day','Location','Route_Category','Direction']],drop_first=True)\n",
        "features3 = data3.columns.values.tolist()"
      ],
      "metadata": {
        "id": "7vc6VBYWhor2"
      },
      "execution_count": null,
      "outputs": []
    },
    {
      "cell_type": "code",
      "source": [
        "data3.head()"
      ],
      "metadata": {
        "colab": {
          "base_uri": "https://localhost:8080/",
          "height": 299
        },
        "outputId": "ae2588fc-3a71-414f-ce76-2bc7a6cf70dd",
        "id": "DiV_hzM5hor2"
      },
      "execution_count": null,
      "outputs": [
        {
          "output_type": "execute_result",
          "data": {
            "text/plain": [
              "   Month_2  Month_3  Month_4  Month_5  Month_6  Month_7  Month_8  Month_9  \\\n",
              "1        0        0        0        0        0        0        0        0   \n",
              "2        0        0        0        0        0        0        0        0   \n",
              "4        0        0        0        0        0        0        0        0   \n",
              "8        0        0        0        0        0        0        0        0   \n",
              "9        0        0        0        0        0        0        0        0   \n",
              "\n",
              "   Month_10  Month_11  ...  Direction_B  Direction_E  Direction_J  \\\n",
              "1         0         0  ...            0            0            0   \n",
              "2         0         0  ...            0            0            0   \n",
              "4         0         0  ...            0            1            0   \n",
              "8         0         0  ...            0            0            0   \n",
              "9         0         0  ...            0            0            0   \n",
              "\n",
              "   Direction_L  Direction_N  Direction_Q  Direction_R  Direction_S  \\\n",
              "1            0            1            0            0            0   \n",
              "2            0            1            0            0            0   \n",
              "4            0            0            0            0            0   \n",
              "8            0            0            0            0            0   \n",
              "9            0            1            0            0            0   \n",
              "\n",
              "   Direction_T  Direction_W  \n",
              "1            0            0  \n",
              "2            0            0  \n",
              "4            0            0  \n",
              "8            0            1  \n",
              "9            0            0  \n",
              "\n",
              "[5 rows x 6415 columns]"
            ],
            "text/html": [
              "\n",
              "  <div id=\"df-0fb92d8d-5337-47ac-b0cb-288b7cde2e0b\">\n",
              "    <div class=\"colab-df-container\">\n",
              "      <div>\n",
              "<style scoped>\n",
              "    .dataframe tbody tr th:only-of-type {\n",
              "        vertical-align: middle;\n",
              "    }\n",
              "\n",
              "    .dataframe tbody tr th {\n",
              "        vertical-align: top;\n",
              "    }\n",
              "\n",
              "    .dataframe thead th {\n",
              "        text-align: right;\n",
              "    }\n",
              "</style>\n",
              "<table border=\"1\" class=\"dataframe\">\n",
              "  <thead>\n",
              "    <tr style=\"text-align: right;\">\n",
              "      <th></th>\n",
              "      <th>Month_2</th>\n",
              "      <th>Month_3</th>\n",
              "      <th>Month_4</th>\n",
              "      <th>Month_5</th>\n",
              "      <th>Month_6</th>\n",
              "      <th>Month_7</th>\n",
              "      <th>Month_8</th>\n",
              "      <th>Month_9</th>\n",
              "      <th>Month_10</th>\n",
              "      <th>Month_11</th>\n",
              "      <th>...</th>\n",
              "      <th>Direction_B</th>\n",
              "      <th>Direction_E</th>\n",
              "      <th>Direction_J</th>\n",
              "      <th>Direction_L</th>\n",
              "      <th>Direction_N</th>\n",
              "      <th>Direction_Q</th>\n",
              "      <th>Direction_R</th>\n",
              "      <th>Direction_S</th>\n",
              "      <th>Direction_T</th>\n",
              "      <th>Direction_W</th>\n",
              "    </tr>\n",
              "  </thead>\n",
              "  <tbody>\n",
              "    <tr>\n",
              "      <th>1</th>\n",
              "      <td>0</td>\n",
              "      <td>0</td>\n",
              "      <td>0</td>\n",
              "      <td>0</td>\n",
              "      <td>0</td>\n",
              "      <td>0</td>\n",
              "      <td>0</td>\n",
              "      <td>0</td>\n",
              "      <td>0</td>\n",
              "      <td>0</td>\n",
              "      <td>...</td>\n",
              "      <td>0</td>\n",
              "      <td>0</td>\n",
              "      <td>0</td>\n",
              "      <td>0</td>\n",
              "      <td>1</td>\n",
              "      <td>0</td>\n",
              "      <td>0</td>\n",
              "      <td>0</td>\n",
              "      <td>0</td>\n",
              "      <td>0</td>\n",
              "    </tr>\n",
              "    <tr>\n",
              "      <th>2</th>\n",
              "      <td>0</td>\n",
              "      <td>0</td>\n",
              "      <td>0</td>\n",
              "      <td>0</td>\n",
              "      <td>0</td>\n",
              "      <td>0</td>\n",
              "      <td>0</td>\n",
              "      <td>0</td>\n",
              "      <td>0</td>\n",
              "      <td>0</td>\n",
              "      <td>...</td>\n",
              "      <td>0</td>\n",
              "      <td>0</td>\n",
              "      <td>0</td>\n",
              "      <td>0</td>\n",
              "      <td>1</td>\n",
              "      <td>0</td>\n",
              "      <td>0</td>\n",
              "      <td>0</td>\n",
              "      <td>0</td>\n",
              "      <td>0</td>\n",
              "    </tr>\n",
              "    <tr>\n",
              "      <th>4</th>\n",
              "      <td>0</td>\n",
              "      <td>0</td>\n",
              "      <td>0</td>\n",
              "      <td>0</td>\n",
              "      <td>0</td>\n",
              "      <td>0</td>\n",
              "      <td>0</td>\n",
              "      <td>0</td>\n",
              "      <td>0</td>\n",
              "      <td>0</td>\n",
              "      <td>...</td>\n",
              "      <td>0</td>\n",
              "      <td>1</td>\n",
              "      <td>0</td>\n",
              "      <td>0</td>\n",
              "      <td>0</td>\n",
              "      <td>0</td>\n",
              "      <td>0</td>\n",
              "      <td>0</td>\n",
              "      <td>0</td>\n",
              "      <td>0</td>\n",
              "    </tr>\n",
              "    <tr>\n",
              "      <th>8</th>\n",
              "      <td>0</td>\n",
              "      <td>0</td>\n",
              "      <td>0</td>\n",
              "      <td>0</td>\n",
              "      <td>0</td>\n",
              "      <td>0</td>\n",
              "      <td>0</td>\n",
              "      <td>0</td>\n",
              "      <td>0</td>\n",
              "      <td>0</td>\n",
              "      <td>...</td>\n",
              "      <td>0</td>\n",
              "      <td>0</td>\n",
              "      <td>0</td>\n",
              "      <td>0</td>\n",
              "      <td>0</td>\n",
              "      <td>0</td>\n",
              "      <td>0</td>\n",
              "      <td>0</td>\n",
              "      <td>0</td>\n",
              "      <td>1</td>\n",
              "    </tr>\n",
              "    <tr>\n",
              "      <th>9</th>\n",
              "      <td>0</td>\n",
              "      <td>0</td>\n",
              "      <td>0</td>\n",
              "      <td>0</td>\n",
              "      <td>0</td>\n",
              "      <td>0</td>\n",
              "      <td>0</td>\n",
              "      <td>0</td>\n",
              "      <td>0</td>\n",
              "      <td>0</td>\n",
              "      <td>...</td>\n",
              "      <td>0</td>\n",
              "      <td>0</td>\n",
              "      <td>0</td>\n",
              "      <td>0</td>\n",
              "      <td>1</td>\n",
              "      <td>0</td>\n",
              "      <td>0</td>\n",
              "      <td>0</td>\n",
              "      <td>0</td>\n",
              "      <td>0</td>\n",
              "    </tr>\n",
              "  </tbody>\n",
              "</table>\n",
              "<p>5 rows × 6415 columns</p>\n",
              "</div>\n",
              "      <button class=\"colab-df-convert\" onclick=\"convertToInteractive('df-0fb92d8d-5337-47ac-b0cb-288b7cde2e0b')\"\n",
              "              title=\"Convert this dataframe to an interactive table.\"\n",
              "              style=\"display:none;\">\n",
              "        \n",
              "  <svg xmlns=\"http://www.w3.org/2000/svg\" height=\"24px\"viewBox=\"0 0 24 24\"\n",
              "       width=\"24px\">\n",
              "    <path d=\"M0 0h24v24H0V0z\" fill=\"none\"/>\n",
              "    <path d=\"M18.56 5.44l.94 2.06.94-2.06 2.06-.94-2.06-.94-.94-2.06-.94 2.06-2.06.94zm-11 1L8.5 8.5l.94-2.06 2.06-.94-2.06-.94L8.5 2.5l-.94 2.06-2.06.94zm10 10l.94 2.06.94-2.06 2.06-.94-2.06-.94-.94-2.06-.94 2.06-2.06.94z\"/><path d=\"M17.41 7.96l-1.37-1.37c-.4-.4-.92-.59-1.43-.59-.52 0-1.04.2-1.43.59L10.3 9.45l-7.72 7.72c-.78.78-.78 2.05 0 2.83L4 21.41c.39.39.9.59 1.41.59.51 0 1.02-.2 1.41-.59l7.78-7.78 2.81-2.81c.8-.78.8-2.07 0-2.86zM5.41 20L4 18.59l7.72-7.72 1.47 1.35L5.41 20z\"/>\n",
              "  </svg>\n",
              "      </button>\n",
              "      \n",
              "  <style>\n",
              "    .colab-df-container {\n",
              "      display:flex;\n",
              "      flex-wrap:wrap;\n",
              "      gap: 12px;\n",
              "    }\n",
              "\n",
              "    .colab-df-convert {\n",
              "      background-color: #E8F0FE;\n",
              "      border: none;\n",
              "      border-radius: 50%;\n",
              "      cursor: pointer;\n",
              "      display: none;\n",
              "      fill: #1967D2;\n",
              "      height: 32px;\n",
              "      padding: 0 0 0 0;\n",
              "      width: 32px;\n",
              "    }\n",
              "\n",
              "    .colab-df-convert:hover {\n",
              "      background-color: #E2EBFA;\n",
              "      box-shadow: 0px 1px 2px rgba(60, 64, 67, 0.3), 0px 1px 3px 1px rgba(60, 64, 67, 0.15);\n",
              "      fill: #174EA6;\n",
              "    }\n",
              "\n",
              "    [theme=dark] .colab-df-convert {\n",
              "      background-color: #3B4455;\n",
              "      fill: #D2E3FC;\n",
              "    }\n",
              "\n",
              "    [theme=dark] .colab-df-convert:hover {\n",
              "      background-color: #434B5C;\n",
              "      box-shadow: 0px 1px 3px 1px rgba(0, 0, 0, 0.15);\n",
              "      filter: drop-shadow(0px 1px 2px rgba(0, 0, 0, 0.3));\n",
              "      fill: #FFFFFF;\n",
              "    }\n",
              "  </style>\n",
              "\n",
              "      <script>\n",
              "        const buttonEl =\n",
              "          document.querySelector('#df-0fb92d8d-5337-47ac-b0cb-288b7cde2e0b button.colab-df-convert');\n",
              "        buttonEl.style.display =\n",
              "          google.colab.kernel.accessAllowed ? 'block' : 'none';\n",
              "\n",
              "        async function convertToInteractive(key) {\n",
              "          const element = document.querySelector('#df-0fb92d8d-5337-47ac-b0cb-288b7cde2e0b');\n",
              "          const dataTable =\n",
              "            await google.colab.kernel.invokeFunction('convertToInteractive',\n",
              "                                                     [key], {});\n",
              "          if (!dataTable) return;\n",
              "\n",
              "          const docLinkHtml = 'Like what you see? Visit the ' +\n",
              "            '<a target=\"_blank\" href=https://colab.research.google.com/notebooks/data_table.ipynb>data table notebook</a>'\n",
              "            + ' to learn more about interactive tables.';\n",
              "          element.innerHTML = '';\n",
              "          dataTable['output_type'] = 'display_data';\n",
              "          await google.colab.output.renderOutput(dataTable, element);\n",
              "          const docLink = document.createElement('div');\n",
              "          docLink.innerHTML = docLinkHtml;\n",
              "          element.appendChild(docLink);\n",
              "        }\n",
              "      </script>\n",
              "    </div>\n",
              "  </div>\n",
              "  "
            ]
          },
          "metadata": {},
          "execution_count": 105
        }
      ]
    },
    {
      "cell_type": "code",
      "source": [
        "tree3 = DecisionTreeClassifier(min_samples_split=100)\n",
        "\n",
        "X_train3, X_test3, y_train3, y_test3 = train_test_split(data3,d3['Delay_interval'],test_size=0.15,random_state = 42)"
      ],
      "metadata": {
        "id": "ZpXR1mDshor2"
      },
      "execution_count": null,
      "outputs": []
    },
    {
      "cell_type": "code",
      "source": [
        "tree3.fit(X_train3,y_train3)"
      ],
      "metadata": {
        "colab": {
          "base_uri": "https://localhost:8080/"
        },
        "outputId": "76f0c7c6-8005-4afd-c875-1ae02ae2c126",
        "id": "lUf9GGLjhor3"
      },
      "execution_count": null,
      "outputs": [
        {
          "output_type": "execute_result",
          "data": {
            "text/plain": [
              "DecisionTreeClassifier(min_samples_split=100)"
            ]
          },
          "metadata": {},
          "execution_count": 87
        }
      ]
    },
    {
      "cell_type": "code",
      "source": [
        "y_pred3 = tree3.predict(X_test3)"
      ],
      "metadata": {
        "id": "JP5ipWS_hor3"
      },
      "execution_count": null,
      "outputs": []
    },
    {
      "cell_type": "code",
      "source": [
        "accuracy3 = accuracy_score(y_test3,y_pred3)\n",
        "accuracy3"
      ],
      "metadata": {
        "colab": {
          "base_uri": "https://localhost:8080/"
        },
        "outputId": "77345c85-a1a6-4e77-afbb-97015ed39072",
        "id": "_0gydVR0hor3"
      },
      "execution_count": null,
      "outputs": [
        {
          "output_type": "execute_result",
          "data": {
            "text/plain": [
              "0.4708728079016327"
            ]
          },
          "metadata": {},
          "execution_count": 89
        }
      ]
    },
    {
      "cell_type": "markdown",
      "source": [
        "In decision tree 2, the accuracy is 61% which is much higher than the accuracy score of this model, even that location provides more information of the specific location of a delay incidence. This might because that there are too many splits, and the model could overfit training data."
      ],
      "metadata": {
        "id": "bHynq3riD6Ca"
      }
    },
    {
      "cell_type": "markdown",
      "source": [
        "# Discussion and Conclusion"
      ],
      "metadata": {
        "id": "bgfTjSVh7TD5"
      }
    },
    {
      "cell_type": "markdown",
      "source": [
        "> Location data is not cleaned or chosen as feature for following reasons:\n",
        "\n",
        "1.   TTC has over 5000 bus stops, one-hot-encoding this feature directly will generate too many variables. This can easily cause biased or extreme predicted value.\n",
        "2.   Classifying location data needs additional information that has logical connection between bust stop names (geographic location, population density, traffic volume etc.), which is hard to find due to limited time and difficult to process.\n",
        "3.   The data quality is relatively poor, some location class has incomplete stop name. Therefore it is very hard to map this column to other data.\n",
        "\n",
        "With a good classification of location information, all models presented are likely to performe better. One potential way to classify bus stops is using classifier such as k-means or knn algorithm. Alternative method could be that using latitude and longtitude of each stop to put each stop into a geographic region.\n",
        "> Among all tree-based models, the second one yields the highest accuracy. However, this model will lose predictive power if new route is added to the data. On the other hand, the first is not as accurate as the first one but it is more generally applicable.\n"
      ],
      "metadata": {
        "id": "mVFRy8yS7XYd"
      }
    }
  ]
}